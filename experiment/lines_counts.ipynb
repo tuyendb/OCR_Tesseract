{
 "cells": [
  {
   "cell_type": "code",
   "execution_count": 16,
   "metadata": {},
   "outputs": [
    {
     "name": "stdout",
     "output_type": "stream",
     "text": [
      "942\n"
     ]
    }
   ],
   "source": [
    "import os\n",
    "\n",
    "path = './conversation'\n",
    "count = 0\n",
    "txt_names = [f for f in os.listdir(path) if f.find('.txt') != -1]\n",
    "for name in txt_names:\n",
    "    txt_path = os.path.join(path, name)\n",
    "    with open(txt_path) as f:\n",
    "        text = f.readlines()\n",
    "        size = len(text)\n",
    "        count += size   \n",
    "print(count)\n"
   ]
  },
  {
   "cell_type": "code",
   "execution_count": 15,
   "metadata": {},
   "outputs": [
    {
     "name": "stdout",
     "output_type": "stream",
     "text": [
      "283\n"
     ]
    }
   ],
   "source": [
    "import os\n",
    "\n",
    "path = './crop_imgs/'\n",
    "count = 0\n",
    "folder_names = [f for f in os.listdir(path) if os.path.isdir(os.path.join(path, f))]\n",
    "img_names = [f for f in os.listdir(path) if f.find('jpg') != -1 or f.find('.png') != -1]\n",
    "# print(len(folder_names))\n",
    "# print(len(img_names))\n",
    "count = len(img_names)\n",
    "for name in folder_names:\n",
    "    dir_path = os.path.join(path, name)\n",
    "    file_names = os.listdir(dir_path)\n",
    "    count += len(file_names)\n",
    "    \n",
    "print(count)    "
   ]
  },
  {
   "cell_type": "code",
   "execution_count": null,
   "metadata": {},
   "outputs": [],
   "source": []
  }
 ],
 "metadata": {
  "kernelspec": {
   "display_name": "Python 3.8.13 ('tesseract_VN')",
   "language": "python",
   "name": "python3"
  },
  "language_info": {
   "name": "python",
   "version": "3.8.13"
  },
  "orig_nbformat": 4,
  "vscode": {
   "interpreter": {
    "hash": "f0d8ae804e42a70735150dbaf14719d7ff532e60b4e2ca497e36117bb366d6c6"
   }
  }
 },
 "nbformat": 4,
 "nbformat_minor": 2
}
