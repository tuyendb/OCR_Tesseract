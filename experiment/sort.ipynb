{
 "cells": [
  {
   "cell_type": "code",
   "execution_count": 5,
   "metadata": {},
   "outputs": [
    {
     "name": "stdout",
     "output_type": "stream",
     "text": [
      "413\n",
      "[1743, 1742, 1743, 1742, 1717, 1743, 1742, 1744, 1742, 1743, 1654]\n"
     ]
    }
   ],
   "source": [
    "a = [[414, 252, 1329, 282], [414, 299, 1328, 323], [414, 343, 1329, 363], [413, 379, 1329, 403], [414, 423, 1303, 449], [414, 465, 1329, 495], [414, 515, 1328, 540], [415, 555, 1329, 581], [414, 595, 1328, 621], [414, 636, 1329, 661], [414, 674, 1240, 702]]\n",
    "x1 = min([f[0] for f in a])\n",
    "x2_list = [f[0] + f[2] for f in a]\n",
    "print(x1)\n",
    "print(x2_list)"
   ]
  },
  {
   "cell_type": "code",
   "execution_count": 10,
   "metadata": {},
   "outputs": [
    {
     "data": {
      "text/plain": [
       "[1, 2, 4]"
      ]
     },
     "execution_count": 10,
     "metadata": {},
     "output_type": "execute_result"
    }
   ],
   "source": [
    "b = [1, 2, 4]\n",
    "a = b.copy()\n",
    "b[1], b[2] = b[2], b[1]\n",
    "a"
   ]
  },
  {
   "cell_type": "code",
   "execution_count": 11,
   "metadata": {},
   "outputs": [
    {
     "data": {
      "text/plain": [
       "[[2, 2], [1, 3], [2, 4]]"
      ]
     },
     "execution_count": 11,
     "metadata": {},
     "output_type": "execute_result"
    }
   ],
   "source": [
    "a = [[1,3], [2,2], [2,4]]\n",
    "b = ['1', '2', '3']\n",
    "c = sorted(zip(a, b), key=lambda x: (x[0][1], x[0][0]))\n",
    "a = [f for f, _ in c]\n",
    "b = [f for _, f in c]\n",
    "a"
   ]
  },
  {
   "cell_type": "code",
   "execution_count": 1,
   "metadata": {},
   "outputs": [
    {
     "data": {
      "text/plain": [
       "'1232'"
      ]
     },
     "execution_count": 1,
     "metadata": {},
     "output_type": "execute_result"
    }
   ],
   "source": []
  }
 ],
 "metadata": {
  "kernelspec": {
   "display_name": "Python 3.8.13 ('tesseract_VN')",
   "language": "python",
   "name": "python3"
  },
  "language_info": {
   "codemirror_mode": {
    "name": "ipython",
    "version": 3
   },
   "file_extension": ".py",
   "mimetype": "text/x-python",
   "name": "python",
   "nbconvert_exporter": "python",
   "pygments_lexer": "ipython3",
   "version": "3.8.13"
  },
  "orig_nbformat": 4,
  "vscode": {
   "interpreter": {
    "hash": "f0d8ae804e42a70735150dbaf14719d7ff532e60b4e2ca497e36117bb366d6c6"
   }
  }
 },
 "nbformat": 4,
 "nbformat_minor": 2
}
