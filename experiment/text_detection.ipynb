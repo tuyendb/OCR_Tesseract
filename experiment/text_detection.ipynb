{
 "cells": [
  {
   "cell_type": "code",
   "execution_count": 1,
   "metadata": {},
   "outputs": [
    {
     "name": "stderr",
     "output_type": "stream",
     "text": [
      "The checkpoint state_dict contains keys that are not used by the model:\n",
      "  \u001b[35mpixel_mean\u001b[0m\n",
      "  \u001b[35mpixel_std\u001b[0m\n",
      "/home/tuyennx/anaconda3/envs/tesseract_VN/lib/python3.8/site-packages/torch/functional.py:568: UserWarning: torch.meshgrid: in an upcoming release, it will be required to pass the indexing argument. (Triggered internally at  ../aten/src/ATen/native/TensorShape.cpp:2228.)\n",
      "  return _VF.meshgrid(tensors, **kwargs)  # type: ignore[attr-defined]\n"
     ]
    }
   ],
   "source": [
    "import cv2\n",
    "import numpy\n",
    "from PIL import Image as image_main\n",
    "from detectron2 import model_zoo\n",
    "from detectron2.config import get_cfg\n",
    "from detectron2.engine import DefaultPredictor\n",
    "\n",
    "\n",
    "# Model, threshold score, class labels, and example image - be sure to replace with your own\n",
    "image_path = '../../vbpl/test_img/1/vbg_1.jpg'\n",
    "model_path = '../model/detectron2-publaynet/model/model_final.pth'\n",
    "model_zoo_config_name = 'COCO-Detection/faster_rcnn_R_101_FPN_3x.yaml'\n",
    "prediction_score_threshold = 0.7\n",
    "class_labels = ['text', 'title', 'list', 'table', 'figure']\n",
    "\n",
    "# Detectron config\n",
    "cfg = get_cfg()\n",
    "cfg.merge_from_file(model_zoo.get_config_file(model_zoo_config_name))\n",
    "cfg.MODEL.WEIGHTS = model_path\n",
    "cfg.MODEL.ROI_HEADS.SCORE_THRESH_TEST = prediction_score_threshold\n",
    "cfg.MODEL.NMS_THRESH_SCORE = 0.5\n",
    "cfg.MODEL.RPN.NMS_THRESH = 0.7\n",
    "cfg.MODEL.ROI_HEADS.NMS_THRESH_TEST = 0.5\n",
    "cfg.MODEL.ROI_HEADS.NUM_CLASSES = 5\n",
    "cfg.MODEL.DEVICE = 'cpu'\n",
    "# Detectron predictor\n",
    "predictor = DefaultPredictor(cfg)\n",
    "\n",
    "# Open image, and run predictor\n",
    "img = cv2.imread(image_path)\n",
    "outputs = predictor(img)\n",
    "\n",
    "# Debug outputs\n",
    "instances = outputs[\"instances\"].to(\"cpu\")\n",
    "pred_boxes = instances.pred_boxes\n",
    "scores = instances.scores\n",
    "pred_classes = instances.pred_classes\n",
    "boxes = []\n",
    "colors = [(125,125,0), (255,0,255), (255,255,0), (0,255,255), (255,0,0)]\n",
    "selected_labels = ['title', 'figure']\n",
    "for i in range(0, len(pred_boxes)):\n",
    "    box = pred_boxes[i].tensor.numpy()[0].astype(int)\n",
    "    score = round(float(scores[i].numpy()), 2)\n",
    "    label_key = int(pred_classes[i].numpy())\n",
    "    label = class_labels[label_key]\n",
    "    x1, y1, x2, y2 = box\n",
    "    if label in selected_labels:\n",
    "        boxes.append([list(box), label, score, label_key, img[y1:y2, x1:x2]])\n",
    "        sorted_boxes = sorted(boxes, key=lambda x: (x[0][1], x[0][0]))\n",
    "# print(sorted_boxes.__len__())\n",
    "for i, box in enumerate(sorted_boxes):\n",
    "    x1, y1, x2, y2 = box[0]\n",
    "    cv2.rectangle(img, (x1,y1), (x2,y2), colors[box[3]], 2)\n",
    "    cv2.putText(img, box[1] + '-' + str(box[2]) + '-' + str(i), (x1,y1-5), cv2.FONT_HERSHEY_PLAIN, 2, colors[box[3]], 2)\n",
    "    cv2.imwrite('./test.jpg', img)"
   ]
  }
 ],
 "metadata": {
  "kernelspec": {
   "display_name": "Python 3.8.13 ('tesseract_VN')",
   "language": "python",
   "name": "python3"
  },
  "language_info": {
   "codemirror_mode": {
    "name": "ipython",
    "version": 3
   },
   "file_extension": ".py",
   "mimetype": "text/x-python",
   "name": "python",
   "nbconvert_exporter": "python",
   "pygments_lexer": "ipython3",
   "version": "3.8.13"
  },
  "orig_nbformat": 4,
  "vscode": {
   "interpreter": {
    "hash": "f0d8ae804e42a70735150dbaf14719d7ff532e60b4e2ca497e36117bb366d6c6"
   }
  }
 },
 "nbformat": 4,
 "nbformat_minor": 2
}
