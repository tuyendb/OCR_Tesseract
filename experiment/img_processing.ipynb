{
 "cells": [
  {
   "cell_type": "markdown",
   "metadata": {},
   "source": [
    "EQUAL HISTOGRAM"
   ]
  },
  {
   "cell_type": "code",
   "execution_count": 17,
   "metadata": {},
   "outputs": [
    {
     "data": {
      "text/plain": [
       "True"
      ]
     },
     "execution_count": 17,
     "metadata": {},
     "output_type": "execute_result"
    }
   ],
   "source": [
    "import numpy as np\n",
    "import cv2\n",
    "\n",
    "img = cv2.imread('../book_test/VanBanGoc_108-2008-TT-BTC_108-2008-TT-BTC/vbg_7.jpg')\n",
    "\n",
    "def compute_hist(img):\n",
    "    hist = np.zeros((256,), np.uint8)\n",
    "    h, w = img.shape[:2]\n",
    "    for i in range(h):\n",
    "        for j in range(w):\n",
    "            hist[img[i][j]] += 1\n",
    "    return hist\n",
    "\n",
    "def equal_hist(hist):\n",
    "    cumulator = np.zeros_like(hist, np.float64)\n",
    "    for i in range(len(cumulator)):\n",
    "        cumulator[i] = hist[:i].sum()\n",
    "    new_hist = (cumulator - cumulator.min())/(cumulator.max() - cumulator.min()) * 255\n",
    "    new_hist = np.uint8(new_hist)\n",
    "    return new_hist\n",
    "\n",
    "hist = compute_hist(img).ravel()\n",
    "new_hist = equal_hist(hist)\n",
    "h, w = img.shape[:2]\n",
    "for i in range(h):\n",
    "    for j in range(w):\n",
    "        img[i,j] = new_hist[img[i,j]]\n",
    "\n",
    "kernel = np.array([[-1, -1, -1], [-1, 9, -1], [-1, -1 , -1]])\n",
    "sharpened_img = cv2.filter2D(img, -1, kernel)\n",
    "blur_img = cv2.GaussianBlur(sharpened_img, (3, 3), 0)\n",
    "cv2.imwrite('./test_tess_ocr/equal_hist+sharp+blur.jpg', blur_img)\n"
   ]
  },
  {
   "cell_type": "markdown",
   "metadata": {},
   "source": [
    "TĂNG CONTRAST\n"
   ]
  },
  {
   "cell_type": "code",
   "execution_count": 28,
   "metadata": {},
   "outputs": [
    {
     "data": {
      "text/plain": [
       "True"
      ]
     },
     "execution_count": 28,
     "metadata": {},
     "output_type": "execute_result"
    }
   ],
   "source": [
    "import numpy as np\n",
    "import cv2\n",
    "\n",
    "img = cv2.imread('../book_test/VanBanGoc_108-2008-TT-BTC_108-2008-TT-BTC/vbg_7.jpg')\n",
    "\n",
    "def adjust_image_gamma_lookuptable(image, gamma=1.0):\n",
    "    table = np.array([((i / 255.0) ** gamma) * 255\n",
    "        for i in np.arange(0, 256)]).astype(\"uint8\")\n",
    "    return cv2.LUT(image, table)\n",
    "\n",
    "adjusted_high_img = adjust_image_gamma_lookuptable(img, 5)\n",
    "\n",
    "cv2.imwrite('./test_tess_ocr/adjust_high_contrast.jpg', adjusted_high_img)"
   ]
  },
  {
   "cell_type": "markdown",
   "metadata": {},
   "source": [
    "SHARPEN IMG"
   ]
  },
  {
   "cell_type": "code",
   "execution_count": 14,
   "metadata": {},
   "outputs": [
    {
     "data": {
      "text/plain": [
       "True"
      ]
     },
     "execution_count": 14,
     "metadata": {},
     "output_type": "execute_result"
    }
   ],
   "source": [
    "img = cv2.imread('../book_test/VanBanGoc_108-2008-TT-BTC_108-2008-TT-BTC/vbg_7.jpg')\n",
    "kernel = np.array([[-1, -1, -1], [-1, 9, -1], [-1, -1 , -1]])\n",
    "new_kernel = np.array([[-1, -1, -1], [-1, 9, -1], [-1, -1 , -1]])\n",
    "sharpened_img = cv2.filter2D(img, -1, kernel)\n",
    "blur_img = cv2.GaussianBlur(sharpened_img, (3, 3), 0)\n",
    "cv2.imwrite('./test_tess_ocr/sharp+blur.jpg', blur_img)"
   ]
  }
 ],
 "metadata": {
  "kernelspec": {
   "display_name": "Python 3.8.13 ('tesseract_VN')",
   "language": "python",
   "name": "python3"
  },
  "language_info": {
   "codemirror_mode": {
    "name": "ipython",
    "version": 3
   },
   "file_extension": ".py",
   "mimetype": "text/x-python",
   "name": "python",
   "nbconvert_exporter": "python",
   "pygments_lexer": "ipython3",
   "version": "3.8.13"
  },
  "orig_nbformat": 4,
  "vscode": {
   "interpreter": {
    "hash": "f0d8ae804e42a70735150dbaf14719d7ff532e60b4e2ca497e36117bb366d6c6"
   }
  }
 },
 "nbformat": 4,
 "nbformat_minor": 2
}
